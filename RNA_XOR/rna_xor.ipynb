{
 "cells": [
  {
   "cell_type": "code",
   "execution_count": 4,
   "id": "22c83655",
   "metadata": {},
   "outputs": [],
   "source": [
    "from sklearn.neural_network import MLPClassifier\n"
   ]
  },
  {
   "cell_type": "code",
   "execution_count": 5,
   "id": "6bcce08a",
   "metadata": {},
   "outputs": [
    {
     "name": "stdout",
     "output_type": "stream",
     "text": [
      "Clasificación [0 1 1 0]\n",
      "Pesos [array([[-2.65059714, -1.96117701,  1.4602614 ],\n",
      "       [ 2.9620173 ,  1.95697715,  1.24645858]]), array([[-2.88913049],\n",
      "       [ 2.74821937],\n",
      "       [ 1.57440193]])]\n",
      "Bias [array([ 1.44745152, -1.04234564,  0.14003868]), array([1.40445556])]\n"
     ]
    }
   ],
   "source": [
    "X = [[0., 0.], [0., 1.], [1., 0.], [1., 1.]]\n",
    "y = [0, 1, 1, 0]\n",
    "\n",
    "rna = MLPClassifier(\n",
    "    activation='tanh', max_iter=10000, hidden_layer_sizes=(3))\n",
    "\n",
    "rna.fit(X, y)\n",
    "print(\"Clasificación\",rna.predict(X))\n",
    "print(\"Pesos\",rna.coefs_)\n",
    "print(\"Bias\",rna.intercepts_)"
   ]
  },
  {
   "cell_type": "code",
   "execution_count": null,
   "id": "65829b99",
   "metadata": {},
   "outputs": [],
   "source": []
  }
 ],
 "metadata": {
  "kernelspec": {
   "display_name": "Python 3 (ipykernel)",
   "language": "python",
   "name": "python3"
  },
  "language_info": {
   "codemirror_mode": {
    "name": "ipython",
    "version": 3
   },
   "file_extension": ".py",
   "mimetype": "text/x-python",
   "name": "python",
   "nbconvert_exporter": "python",
   "pygments_lexer": "ipython3",
   "version": "3.9.12"
  }
 },
 "nbformat": 4,
 "nbformat_minor": 5
}
